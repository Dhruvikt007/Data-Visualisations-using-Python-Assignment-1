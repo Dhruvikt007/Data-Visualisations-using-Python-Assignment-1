{
 "cells": [
  {
   "cell_type": "code",
   "execution_count": 1,
   "id": "c285db7f",
   "metadata": {},
   "outputs": [],
   "source": [
    "import numpy as np\n",
    "import matplotlib.pyplot as plt\n",
    "import pandas as pd\n",
    "import seaborn as sns\n",
    "%matplotlib inline\n",
    "from numpy.random import randn,randint,uniform,sample"
   ]
  },
  {
   "cell_type": "markdown",
   "id": "253286f6",
   "metadata": {},
   "source": [
    "# Question 1\n",
    "\n",
    "Create a dataframe with 10 rows on random numbers and 4 columns, (columns labelled as a,b,c,d) and plot a bar chart."
   ]
  },
  {
   "cell_type": "code",
   "execution_count": 2,
   "id": "f4eec28b",
   "metadata": {},
   "outputs": [
    {
     "data": {
      "text/html": [
       "<div>\n",
       "<style scoped>\n",
       "    .dataframe tbody tr th:only-of-type {\n",
       "        vertical-align: middle;\n",
       "    }\n",
       "\n",
       "    .dataframe tbody tr th {\n",
       "        vertical-align: top;\n",
       "    }\n",
       "\n",
       "    .dataframe thead th {\n",
       "        text-align: right;\n",
       "    }\n",
       "</style>\n",
       "<table border=\"1\" class=\"dataframe\">\n",
       "  <thead>\n",
       "    <tr style=\"text-align: right;\">\n",
       "      <th></th>\n",
       "      <th>a</th>\n",
       "      <th>b</th>\n",
       "      <th>c</th>\n",
       "      <th>d</th>\n",
       "    </tr>\n",
       "  </thead>\n",
       "  <tbody>\n",
       "    <tr>\n",
       "      <th>0</th>\n",
       "      <td>1.413433</td>\n",
       "      <td>1.245383</td>\n",
       "      <td>1.491523</td>\n",
       "      <td>-1.871700</td>\n",
       "    </tr>\n",
       "    <tr>\n",
       "      <th>1</th>\n",
       "      <td>-0.171139</td>\n",
       "      <td>0.104738</td>\n",
       "      <td>0.580578</td>\n",
       "      <td>-1.292239</td>\n",
       "    </tr>\n",
       "    <tr>\n",
       "      <th>2</th>\n",
       "      <td>-0.324915</td>\n",
       "      <td>0.443032</td>\n",
       "      <td>0.037288</td>\n",
       "      <td>-0.357601</td>\n",
       "    </tr>\n",
       "    <tr>\n",
       "      <th>3</th>\n",
       "      <td>0.258867</td>\n",
       "      <td>0.856764</td>\n",
       "      <td>0.718262</td>\n",
       "      <td>0.057152</td>\n",
       "    </tr>\n",
       "    <tr>\n",
       "      <th>4</th>\n",
       "      <td>0.522948</td>\n",
       "      <td>-1.033172</td>\n",
       "      <td>-0.203403</td>\n",
       "      <td>0.032463</td>\n",
       "    </tr>\n",
       "    <tr>\n",
       "      <th>5</th>\n",
       "      <td>-0.619556</td>\n",
       "      <td>-0.850455</td>\n",
       "      <td>-0.834687</td>\n",
       "      <td>-0.402540</td>\n",
       "    </tr>\n",
       "    <tr>\n",
       "      <th>6</th>\n",
       "      <td>-0.620168</td>\n",
       "      <td>-0.993185</td>\n",
       "      <td>-0.709650</td>\n",
       "      <td>0.738951</td>\n",
       "    </tr>\n",
       "    <tr>\n",
       "      <th>7</th>\n",
       "      <td>0.825874</td>\n",
       "      <td>-1.713313</td>\n",
       "      <td>-1.137403</td>\n",
       "      <td>2.506183</td>\n",
       "    </tr>\n",
       "    <tr>\n",
       "      <th>8</th>\n",
       "      <td>-0.590878</td>\n",
       "      <td>-1.182586</td>\n",
       "      <td>0.441159</td>\n",
       "      <td>-0.614106</td>\n",
       "    </tr>\n",
       "    <tr>\n",
       "      <th>9</th>\n",
       "      <td>1.288925</td>\n",
       "      <td>0.964681</td>\n",
       "      <td>-0.291072</td>\n",
       "      <td>-1.801715</td>\n",
       "    </tr>\n",
       "  </tbody>\n",
       "</table>\n",
       "</div>"
      ],
      "text/plain": [
       "          a         b         c         d\n",
       "0  1.413433  1.245383  1.491523 -1.871700\n",
       "1 -0.171139  0.104738  0.580578 -1.292239\n",
       "2 -0.324915  0.443032  0.037288 -0.357601\n",
       "3  0.258867  0.856764  0.718262  0.057152\n",
       "4  0.522948 -1.033172 -0.203403  0.032463\n",
       "5 -0.619556 -0.850455 -0.834687 -0.402540\n",
       "6 -0.620168 -0.993185 -0.709650  0.738951\n",
       "7  0.825874 -1.713313 -1.137403  2.506183\n",
       "8 -0.590878 -1.182586  0.441159 -0.614106\n",
       "9  1.288925  0.964681 -0.291072 -1.801715"
      ]
     },
     "execution_count": 2,
     "metadata": {},
     "output_type": "execute_result"
    }
   ],
   "source": [
    "df=pd.DataFrame(randn(10,4),\n",
    "                columns=['a','b','c','d'])\n",
    "df"
   ]
  },
  {
   "cell_type": "code",
   "execution_count": 3,
   "id": "864ea836",
   "metadata": {},
   "outputs": [
    {
     "data": {
      "text/plain": [
       "<AxesSubplot:title={'center':'Bar Chart'}>"
      ]
     },
     "execution_count": 3,
     "metadata": {},
     "output_type": "execute_result"
    },
    {
     "data": {
      "image/png": "[encoded data removed]",
      "text/plain": [
       "<Figure size 720x720 with 1 Axes>"
      ]
     },
     "metadata": {
      "needs_background": "light"
     },
     "output_type": "display_data"
    }
   ],
   "source": [
    "df.plot(kind='bar',title='Bar Chart',figsize=(10,10),legend = True)"
   ]
  }
 ],
 "metadata": {
  "kernelspec": {
   "display_name": "Python 3",
   "language": "python",
   "name": "python3"
  },
  "language_info": {
   "codemirror_mode": {
    "name": "ipython",
    "version": 3
   },
   "file_extension": ".py",
   "mimetype": "text/x-python",
   "name": "python",
   "nbconvert_exporter": "python",
   "pygments_lexer": "ipython3",
   "version": "3.8.8"
  }
 },
 "nbformat": 4,
 "nbformat_minor": 5
}
